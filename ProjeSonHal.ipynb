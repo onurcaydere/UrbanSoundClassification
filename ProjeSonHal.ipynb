{
  "nbformat": 4,
  "nbformat_minor": 0,
  "metadata": {
    "colab": {
      "provenance": [],
      "collapsed_sections": []
    },
    "kernelspec": {
      "name": "python3",
      "display_name": "Python 3"
    },
    "language_info": {
      "name": "python"
    },
    "accelerator": "GPU"
  },
  "cells": [
    {
      "cell_type": "code",
      "source": [
        "import tensorflow as tf\n",
        "import os\n",
        "data_dir=\"/content/drive/MyDrive/ProjeKe/spectrograms/\"\n",
        "import cv2\n",
        "import random\n"
      ],
      "metadata": {
        "id": "tG4ZUVgzo5pN"
      },
      "execution_count": null,
      "outputs": []
    },
    {
      "cell_type": "code",
      "source": [
        "folder_list=[x for x in os.listdir(data_dir)]\n",
        "folder_list"
      ],
      "metadata": {
        "colab": {
          "base_uri": "https://localhost:8080/"
        },
        "id": "v8pQl_ThZRuS",
        "outputId": "d511d3bd-10f7-4ae5-e26b-730a379766fc"
      },
      "execution_count": null,
      "outputs": [
        {
          "output_type": "execute_result",
          "data": {
            "text/plain": [
              "['6', '5', '2', '1', '3', '8', '9', '0', '4', '7']"
            ]
          },
          "metadata": {},
          "execution_count": 3
        }
      ]
    },
    {
      "cell_type": "code",
      "source": [
        "deneme=[]\n",
        "for i in folder_list:\n",
        "  path=data_dir+i\n",
        "  img_list=[x for x in os.listdir(path)]\n",
        "  for a in img_list:\n",
        "    deneme.append(a)"
      ],
      "metadata": {
        "id": "MeUNcDjxZq5N"
      },
      "execution_count": null,
      "outputs": []
    },
    {
      "cell_type": "code",
      "source": [
        "deneme[0]"
      ],
      "metadata": {
        "colab": {
          "base_uri": "https://localhost:8080/",
          "height": 35
        },
        "id": "ra9WtcGFaLkM",
        "outputId": "a9737b6c-77b7-4d8d-dc25-a2c21c9a79f7"
      },
      "execution_count": null,
      "outputs": [
        {
          "output_type": "execute_result",
          "data": {
            "text/plain": [
              "'102305-6-0-0.png'"
            ],
            "application/vnd.google.colaboratory.intrinsic+json": {
              "type": "string"
            }
          },
          "metadata": {},
          "execution_count": 5
        }
      ]
    },
    {
      "cell_type": "code",
      "source": [
        "image_list=list(range(0,len(deneme)))\n",
        "random.shuffle(image_list)\n",
        "train=image_list[:6986]\n",
        "val=image_list[6986:7685]\n",
        "test=image_list[7685:]\n",
        "# Burada imlerin uzunluğu kadar bir liste oluşturup shuffle işlemiyorum çünkü indislerin karışık gelmesiyle train test ve val arasındaki denge daha iyi dağılabilir diye düşündüm.\n"
      ],
      "metadata": {
        "id": "gty7ihDek4P8"
      },
      "execution_count": null,
      "outputs": []
    },
    {
      "cell_type": "code",
      "source": [
        "# İkinci çalıştırmada Buraların(bun vebundan sonraki 2 cell) çalışmasına gerek yoktur.\n",
        "for x in train:\n",
        "  class_name=deneme[x].split(\"-\")[1]\n",
        "  if (os.path.exists(\"/content/drive/MyDrive/ProjeKe/train/\"+class_name)==False):\n",
        "    os.mkdir(\"/content/drive/MyDrive/ProjeKe/train/\"+class_name)\n",
        "    img=cv2.imread(\"/content/drive/MyDrive/ProjeKe/spectrograms/\"+class_name+\"/\"+deneme[x])\n",
        "    cv2.imwrite(\"/content/drive/MyDrive/ProjeKe/train/\"+class_name+\"/\"+deneme[x],img)\n",
        "\n",
        "  else:\n",
        "    img=cv2.imread(\"/content/drive/MyDrive/ProjeKe/spectrograms/\"+class_name+\"/\"+deneme[x])\n",
        "    cv2.imwrite(\"/content/drive/MyDrive/ProjeKe/train/\"+class_name+\"/\"+deneme[x],img)\n",
        " \n"
      ],
      "metadata": {
        "id": "kF8v9Pc8aESs"
      },
      "execution_count": null,
      "outputs": []
    },
    {
      "cell_type": "code",
      "source": [
        "\n",
        "for x in val:\n",
        "  class_name=deneme[x].split(\"-\")[1]\n",
        "  if (os.path.exists(\"/content/drive/MyDrive/ProjeKe/val/\"+class_name)==False):\n",
        "    os.mkdir(\"/content/drive/MyDrive/ProjeKe/val/\"+class_name)\n",
        "    img=cv2.imread(\"/content/drive/MyDrive/ProjeKe/spectrograms/\"+class_name+\"/\"+deneme[x])\n",
        "    cv2.imwrite(\"/content/drive/MyDrive/ProjeKe/val/\"+class_name+\"/\"+deneme[x],img)\n",
        "\n",
        "  else:\n",
        "    img=cv2.imread(\"/content/drive/MyDrive/ProjeKe/spectrograms/\"+class_name+\"/\"+deneme[x])\n",
        "    cv2.imwrite(\"/content/drive/MyDrive/ProjeKe/val/\"+class_name+\"/\"+deneme[x],img)\n",
        " \n",
        "    \n"
      ],
      "metadata": {
        "id": "0Man_wbjpu3G"
      },
      "execution_count": null,
      "outputs": []
    },
    {
      "cell_type": "code",
      "source": [
        "\n",
        "for x in test:\n",
        "  class_name=deneme[x].split(\"-\")[1]\n",
        "  if (os.path.exists(\"/content/drive/MyDrive/ProjeKe/test/\"+class_name)==False):\n",
        "    os.mkdir(\"/content/drive/MyDrive/ProjeKe/test/\"+class_name)\n",
        "    img=cv2.imread(\"/content/drive/MyDrive/ProjeKe/spectrograms/\"+class_name+\"/\"+deneme[x])\n",
        "    cv2.imwrite(\"/content/drive/MyDrive/ProjeKe/test/\"+class_name+\"/\"+deneme[x],img)\n",
        "  else:\n",
        "    img=cv2.imread(\"/content/drive/MyDrive/ProjeKe/spectrograms/\"+class_name+\"/\"+deneme[x])\n",
        "    cv2.imwrite(\"/content/drive/MyDrive/ProjeKe/test/\"+class_name+\"/\"+deneme[x],img) \n",
        "    "
      ],
      "metadata": {
        "id": "IdlImhrDpxP6"
      },
      "execution_count": null,
      "outputs": []
    },
    {
      "cell_type": "code",
      "source": [
        "import shutil\n",
        "# Burada Test Klasörünü silip val içerisine aktarıyorum Datagen içerisinde ayırma işlemi gerçekleştirdim.\n",
        "img_list=[x for x in os.listdir(\"/content/drive/MyDrive/ProjeKe/val/denss\")]\n",
        "for i in img_list:\n",
        "  img_path=\"/content/drive/MyDrive/ProjeKe/val/denss/\"+i\n",
        "  shutil.move(img_path,\"/content/drive/MyDrive/ProjeKe/val/5/\"+i)\n",
        "\n",
        "\n"
      ],
      "metadata": {
        "id": "Z3eSy023gUL7"
      },
      "execution_count": null,
      "outputs": []
    },
    {
      "cell_type": "markdown",
      "source": [
        "# **Model**"
      ],
      "metadata": {
        "id": "CdAc2KilN5wS"
      }
    },
    {
      "cell_type": "code",
      "source": [
        "from tensorflow.keras.models import Sequential,Model\n",
        "from tensorflow.keras.layers import MaxPooling2D, AveragePooling2D,Conv2D,Input,Concatenate,ZeroPadding2D,Dense,Dropout,Flatten\n",
        "from tensorflow.keras.callbacks import EarlyStopping,ModelCheckpoint\n",
        "from tensorflow.keras.callbacks import EarlyStopping,ModelCheckpoint\n",
        "from tensorflow.keras.applications import DenseNet121\n"
      ],
      "metadata": {
        "id": "zwasfAWPN5ZX"
      },
      "execution_count": null,
      "outputs": []
    },
    {
      "cell_type": "code",
      "source": [
        "from tensorflow.keras.preprocessing.image import ImageDataGenerator\n",
        "\n",
        "train_gen=ImageDataGenerator(rescale = 1./255,\n",
        "                                   shear_range = 0.2,\n",
        "                                   zoom_range = 0.2,\n",
        "                                   horizontal_flip = True)\n",
        "val_gen=ImageDataGenerator(rescale = 1./255,\n",
        "                                   shear_range = 0.2,\n",
        "                                   zoom_range = 0.2,\n",
        "                                   horizontal_flip = True,validation_split=0.2)\n",
        "\n",
        "train_df=train_gen.flow_from_directory(\"/content/drive/MyDrive/ProjeKe/train/\",\n",
        "    target_size=(64, 64),\n",
        "    color_mode='grayscale',\n",
        "    class_mode='categorical',\n",
        "    batch_size=32,\n",
        "    )\n",
        "\n",
        "val_df=val_gen.flow_from_directory(\"/content/drive/MyDrive/ProjeKe/val/\",\n",
        "    target_size=(64, 64),\n",
        "    color_mode='grayscale',\n",
        "    class_mode='categorical',\n",
        "    batch_size=32,\n",
        "    subset=\"training\"\n",
        "\n",
        "    )\n",
        "test_df=val_gen.flow_from_directory(\"/content/drive/MyDrive/ProjeKe/val/\",\n",
        "    target_size=(64, 64),\n",
        "    color_mode='grayscale',\n",
        "    class_mode='categorical',\n",
        "    batch_size=32,\n",
        "    subset=\"validation\"\n",
        "\n",
        "    )\n",
        "\n",
        "# Buradan sonra model oluşturma eğitim ve değerlendirmeler kalıyor."
      ],
      "metadata": {
        "colab": {
          "base_uri": "https://localhost:8080/"
        },
        "id": "SZ03nRY-11ES",
        "outputId": "864a5a9b-e4a8-42df-de8f-6cba3e6b8644"
      },
      "execution_count": null,
      "outputs": [
        {
          "output_type": "stream",
          "name": "stdout",
          "text": [
            "Found 6986 images belonging to 10 classes.\n",
            "Found 1400 images belonging to 10 classes.\n",
            "Found 346 images belonging to 10 classes.\n"
          ]
        }
      ]
    },
    {
      "cell_type": "code",
      "source": [
        "inp=Input(shape=(64,64,1))\n",
        "x=Conv2D(16,kernel_size=(3,3),strides=(1,1),activation='relu',padding=\"same\")(inp)\n",
        "x=Conv2D(32,kernel_size=(3,3),activation='relu',strides=(1,1),padding=\"same\")(x)\n",
        "x=Conv2D(64,kernel_size=(3,3),activation='relu',strides=(1,1),padding=\"same\")(x)\n",
        "x=Conv2D(128,kernel_size=(3,3),activation='relu',strides=(1,1),padding=\"same\")(x)\n",
        "x=MaxPooling2D(pool_size=(2,2))(x)\n",
        "x=Dropout(0.5)(x)\n",
        "x=Flatten()(x)\n",
        "x=Dense(128,activation='relu')(x)\n",
        "x=Dense(64,activation='relu')(x)\n",
        "out=Dense(10,activation='softmax')(x)\n",
        "model_s=Model(inputs=inp,outputs=out)\n",
        "model_s.summary()\n",
        "model_s.compile(loss=\"categorical_crossentropy\",optimizer=\"adam\", metrics=[\"accuracy\"])"
      ],
      "metadata": {
        "colab": {
          "base_uri": "https://localhost:8080/"
        },
        "id": "CAXdPetF1_yo",
        "outputId": "cf1307af-2e5d-4672-d711-a612387a9589"
      },
      "execution_count": null,
      "outputs": [
        {
          "output_type": "stream",
          "name": "stdout",
          "text": [
            "Model: \"model_10\"\n",
            "_________________________________________________________________\n",
            " Layer (type)                Output Shape              Param #   \n",
            "=================================================================\n",
            " input_15 (InputLayer)       [(None, 64, 64, 1)]       0         \n",
            "                                                                 \n",
            " conv2d_16 (Conv2D)          (None, 64, 64, 16)        160       \n",
            "                                                                 \n",
            " conv2d_17 (Conv2D)          (None, 64, 64, 32)        4640      \n",
            "                                                                 \n",
            " conv2d_18 (Conv2D)          (None, 64, 64, 64)        18496     \n",
            "                                                                 \n",
            " conv2d_19 (Conv2D)          (None, 64, 64, 128)       73856     \n",
            "                                                                 \n",
            " max_pooling2d_6 (MaxPooling  (None, 32, 32, 128)      0         \n",
            " 2D)                                                             \n",
            "                                                                 \n",
            " dropout_3 (Dropout)         (None, 32, 32, 128)       0         \n",
            "                                                                 \n",
            " flatten_13 (Flatten)        (None, 131072)            0         \n",
            "                                                                 \n",
            " dense_32 (Dense)            (None, 128)               16777344  \n",
            "                                                                 \n",
            " dense_33 (Dense)            (None, 64)                8256      \n",
            "                                                                 \n",
            " dense_34 (Dense)            (None, 10)                650       \n",
            "                                                                 \n",
            "=================================================================\n",
            "Total params: 16,883,402\n",
            "Trainable params: 16,883,402\n",
            "Non-trainable params: 0\n",
            "_________________________________________________________________\n"
          ]
        }
      ]
    },
    {
      "cell_type": "code",
      "source": [
        "model_s.compile(loss=tf.keras.losses.CategoricalCrossentropy(),optimizer=\"Adam\", metrics=[\"accuracy\"])"
      ],
      "metadata": {
        "id": "JiF07jSDesF4"
      },
      "execution_count": null,
      "outputs": []
    },
    {
      "cell_type": "code",
      "source": [
        "callback=[EarlyStopping(monitor='val_loss',patience=10), ModelCheckpoint(filepath=\"best_model.h5\",monitor='val_loss',save_best_only=True)]\n"
      ],
      "metadata": {
        "id": "bIBCpDaeS083"
      },
      "execution_count": null,
      "outputs": []
    },
    {
      "cell_type": "code",
      "source": [
        "result=model_s.fit(\n",
        "    train_df,\n",
        "    steps_per_epoch=train_df.samples//32,\n",
        "    validation_data=val_df,\n",
        "    epochs=50,\n",
        "    validation_steps=val_df.samples//32,\n",
        "    #callbacks=callback\n",
        ")"
      ],
      "metadata": {
        "colab": {
          "base_uri": "https://localhost:8080/"
        },
        "id": "3_O604GWOR05",
        "outputId": "d9ab0938-5f3c-46a2-c997-a20ee9763056"
      },
      "execution_count": null,
      "outputs": [
        {
          "output_type": "stream",
          "name": "stdout",
          "text": [
            "Epoch 1/50\n",
            "218/218 [==============================] - 49s 220ms/step - loss: 1.6595 - accuracy: 0.3976 - val_loss: 1.4426 - val_accuracy: 0.4789\n",
            "Epoch 2/50\n",
            "218/218 [==============================] - 47s 217ms/step - loss: 1.1990 - accuracy: 0.5781 - val_loss: 1.0892 - val_accuracy: 0.6206\n",
            "Epoch 3/50\n",
            "218/218 [==============================] - 48s 220ms/step - loss: 0.9452 - accuracy: 0.6789 - val_loss: 0.8623 - val_accuracy: 0.6948\n",
            "Epoch 4/50\n",
            "218/218 [==============================] - 47s 218ms/step - loss: 0.7769 - accuracy: 0.7330 - val_loss: 0.8732 - val_accuracy: 0.7042\n",
            "Epoch 5/50\n",
            "218/218 [==============================] - 47s 214ms/step - loss: 0.6568 - accuracy: 0.7794 - val_loss: 0.7890 - val_accuracy: 0.7420\n",
            "Epoch 6/50\n",
            "218/218 [==============================] - 47s 218ms/step - loss: 0.5969 - accuracy: 0.7990 - val_loss: 0.6894 - val_accuracy: 0.7725\n",
            "Epoch 7/50\n",
            "218/218 [==============================] - 47s 214ms/step - loss: 0.5250 - accuracy: 0.8213 - val_loss: 0.7248 - val_accuracy: 0.7689\n",
            "Epoch 8/50\n",
            "218/218 [==============================] - 47s 214ms/step - loss: 0.4914 - accuracy: 0.8323 - val_loss: 0.6019 - val_accuracy: 0.7863\n",
            "Epoch 9/50\n",
            "218/218 [==============================] - 48s 218ms/step - loss: 0.4280 - accuracy: 0.8548 - val_loss: 0.6241 - val_accuracy: 0.7922\n",
            "Epoch 10/50\n",
            "218/218 [==============================] - 47s 214ms/step - loss: 0.4081 - accuracy: 0.8622 - val_loss: 0.5632 - val_accuracy: 0.8147\n",
            "Epoch 11/50\n",
            "218/218 [==============================] - 47s 213ms/step - loss: 0.3738 - accuracy: 0.8773 - val_loss: 0.5497 - val_accuracy: 0.8234\n",
            "Epoch 12/50\n",
            "218/218 [==============================] - 47s 215ms/step - loss: 0.3411 - accuracy: 0.8865 - val_loss: 0.5481 - val_accuracy: 0.8365\n",
            "Epoch 13/50\n",
            "218/218 [==============================] - 47s 218ms/step - loss: 0.3037 - accuracy: 0.8968 - val_loss: 0.5604 - val_accuracy: 0.8183\n",
            "Epoch 14/50\n",
            "218/218 [==============================] - 47s 215ms/step - loss: 0.2990 - accuracy: 0.8982 - val_loss: 0.5164 - val_accuracy: 0.8307\n",
            "Epoch 15/50\n",
            "218/218 [==============================] - 47s 215ms/step - loss: 0.2817 - accuracy: 0.9060 - val_loss: 0.5200 - val_accuracy: 0.8568\n",
            "Epoch 16/50\n",
            "218/218 [==============================] - 47s 214ms/step - loss: 0.2608 - accuracy: 0.9090 - val_loss: 0.5684 - val_accuracy: 0.8423\n",
            "Epoch 17/50\n",
            "218/218 [==============================] - 46s 213ms/step - loss: 0.2586 - accuracy: 0.9116 - val_loss: 0.4958 - val_accuracy: 0.8554\n",
            "Epoch 18/50\n",
            "218/218 [==============================] - 46s 213ms/step - loss: 0.2352 - accuracy: 0.9200 - val_loss: 0.5766 - val_accuracy: 0.8321\n",
            "Epoch 19/50\n",
            "218/218 [==============================] - 47s 217ms/step - loss: 0.2485 - accuracy: 0.9149 - val_loss: 0.4479 - val_accuracy: 0.8626\n",
            "Epoch 20/50\n",
            "218/218 [==============================] - 46s 213ms/step - loss: 0.2125 - accuracy: 0.9307 - val_loss: 0.4529 - val_accuracy: 0.8547\n",
            "Epoch 21/50\n",
            "218/218 [==============================] - 47s 215ms/step - loss: 0.2174 - accuracy: 0.9292 - val_loss: 0.4498 - val_accuracy: 0.8634\n",
            "Epoch 22/50\n",
            "218/218 [==============================] - 47s 215ms/step - loss: 0.2132 - accuracy: 0.9326 - val_loss: 0.4806 - val_accuracy: 0.8583\n",
            "Epoch 23/50\n",
            "218/218 [==============================] - 46s 212ms/step - loss: 0.1896 - accuracy: 0.9344 - val_loss: 0.4524 - val_accuracy: 0.8677\n",
            "Epoch 24/50\n",
            "218/218 [==============================] - 47s 215ms/step - loss: 0.1873 - accuracy: 0.9374 - val_loss: 0.4974 - val_accuracy: 0.8685\n",
            "Epoch 25/50\n",
            "218/218 [==============================] - 47s 214ms/step - loss: 0.1716 - accuracy: 0.9400 - val_loss: 0.5308 - val_accuracy: 0.8568\n",
            "Epoch 26/50\n",
            "218/218 [==============================] - 46s 213ms/step - loss: 0.1901 - accuracy: 0.9337 - val_loss: 0.5305 - val_accuracy: 0.8568\n",
            "Epoch 27/50\n",
            "218/218 [==============================] - 48s 220ms/step - loss: 0.1674 - accuracy: 0.9423 - val_loss: 0.4900 - val_accuracy: 0.8561\n",
            "Epoch 28/50\n",
            "218/218 [==============================] - 47s 215ms/step - loss: 0.1692 - accuracy: 0.9412 - val_loss: 0.4972 - val_accuracy: 0.8808\n",
            "Epoch 29/50\n",
            "218/218 [==============================] - 47s 214ms/step - loss: 0.1410 - accuracy: 0.9504 - val_loss: 0.5598 - val_accuracy: 0.8626\n",
            "Epoch 30/50\n",
            "218/218 [==============================] - 46s 212ms/step - loss: 0.1405 - accuracy: 0.9502 - val_loss: 0.4950 - val_accuracy: 0.8714\n",
            "Epoch 31/50\n",
            "218/218 [==============================] - 47s 217ms/step - loss: 0.1504 - accuracy: 0.9510 - val_loss: 0.5371 - val_accuracy: 0.8808\n",
            "Epoch 32/50\n",
            "218/218 [==============================] - 47s 214ms/step - loss: 0.1367 - accuracy: 0.9541 - val_loss: 0.4637 - val_accuracy: 0.8794\n",
            "Epoch 33/50\n",
            "218/218 [==============================] - 47s 214ms/step - loss: 0.1414 - accuracy: 0.9504 - val_loss: 0.4932 - val_accuracy: 0.8735\n",
            "Epoch 34/50\n",
            "218/218 [==============================] - 47s 214ms/step - loss: 0.1272 - accuracy: 0.9567 - val_loss: 0.4812 - val_accuracy: 0.8765\n",
            "Epoch 35/50\n",
            "218/218 [==============================] - 47s 214ms/step - loss: 0.1312 - accuracy: 0.9554 - val_loss: 0.4857 - val_accuracy: 0.8830\n",
            "Epoch 36/50\n",
            "218/218 [==============================] - 47s 214ms/step - loss: 0.1159 - accuracy: 0.9610 - val_loss: 0.5482 - val_accuracy: 0.8692\n",
            "Epoch 37/50\n",
            "218/218 [==============================] - 47s 218ms/step - loss: 0.1374 - accuracy: 0.9546 - val_loss: 0.5263 - val_accuracy: 0.8706\n",
            "Epoch 38/50\n",
            "218/218 [==============================] - 46s 213ms/step - loss: 0.1130 - accuracy: 0.9610 - val_loss: 0.5480 - val_accuracy: 0.8794\n",
            "Epoch 39/50\n",
            "218/218 [==============================] - 46s 212ms/step - loss: 0.1022 - accuracy: 0.9665 - val_loss: 0.6593 - val_accuracy: 0.8430\n",
            "Epoch 40/50\n",
            "218/218 [==============================] - 47s 217ms/step - loss: 0.1281 - accuracy: 0.9577 - val_loss: 0.5143 - val_accuracy: 0.8743\n",
            "Epoch 41/50\n",
            "218/218 [==============================] - 47s 213ms/step - loss: 0.1019 - accuracy: 0.9639 - val_loss: 0.5054 - val_accuracy: 0.8735\n",
            "Epoch 42/50\n",
            "218/218 [==============================] - 47s 214ms/step - loss: 0.1209 - accuracy: 0.9609 - val_loss: 0.5652 - val_accuracy: 0.8706\n",
            "Epoch 43/50\n",
            "218/218 [==============================] - 46s 213ms/step - loss: 0.1183 - accuracy: 0.9617 - val_loss: 0.4997 - val_accuracy: 0.8714\n",
            "Epoch 44/50\n",
            "218/218 [==============================] - 46s 211ms/step - loss: 0.1260 - accuracy: 0.9559 - val_loss: 0.4975 - val_accuracy: 0.8801\n",
            "Epoch 45/50\n",
            "218/218 [==============================] - 47s 214ms/step - loss: 0.1034 - accuracy: 0.9642 - val_loss: 0.5408 - val_accuracy: 0.8772\n",
            "Epoch 46/50\n",
            "218/218 [==============================] - 46s 212ms/step - loss: 0.1015 - accuracy: 0.9652 - val_loss: 0.5060 - val_accuracy: 0.8786\n",
            "Epoch 47/50\n",
            "218/218 [==============================] - 46s 212ms/step - loss: 0.0957 - accuracy: 0.9665 - val_loss: 0.5445 - val_accuracy: 0.8881\n",
            "Epoch 48/50\n",
            "218/218 [==============================] - 47s 215ms/step - loss: 0.1107 - accuracy: 0.9617 - val_loss: 0.5118 - val_accuracy: 0.8743\n",
            "Epoch 49/50\n",
            "218/218 [==============================] - 47s 214ms/step - loss: 0.1001 - accuracy: 0.9661 - val_loss: 0.5042 - val_accuracy: 0.8779\n",
            "Epoch 50/50\n",
            "218/218 [==============================] - 46s 212ms/step - loss: 0.0982 - accuracy: 0.9676 - val_loss: 0.4609 - val_accuracy: 0.8874\n"
          ]
        }
      ]
    },
    {
      "cell_type": "code",
      "source": [
        "import matplotlib.pyplot as plt\n",
        "\n",
        "plt.plot(result.history[\"loss\"],label=\"Loss\")\n",
        "plt.plot(result.history[\"val_loss\"],label=\"Validation Loss\")\n",
        "\n",
        "plt.xlabel(\"Epochs\")\n",
        "plt.ylabel(\"Loss\")\n",
        "\n",
        "plt.legend()\n",
        "plt.show()"
      ],
      "metadata": {
        "colab": {
          "base_uri": "https://localhost:8080/",
          "height": 279
        },
        "id": "n2YPSCFMPNrW",
        "outputId": "944acbfb-bf7f-4aba-eaee-8ce2d6922ce4"
      },
      "execution_count": null,
      "outputs": [
        {
          "output_type": "display_data",
          "data": {
            "text/plain": [
              "<Figure size 432x288 with 1 Axes>"
            ],
            "image/png": "[encoded data removed]"
          },
          "metadata": {
            "needs_background": "light"
          }
        }
      ]
    },
    {
      "cell_type": "code",
      "source": [
        "plt.plot(result.history[\"accuracy\"],label=\"Accuracy\")\n",
        "plt.plot(result.history[\"val_accuracy\"],label=\"Val Accuracy\")\n",
        "\n",
        "plt.xlabel(\"Epochs\")\n",
        "plt.ylabel(\"Loss\")\n",
        "\n",
        "plt.legend()\n",
        "plt.show()"
      ],
      "metadata": {
        "colab": {
          "base_uri": "https://localhost:8080/",
          "height": 279
        },
        "id": "_gQmSqzGPqzv",
        "outputId": "866d4d40-d28f-454b-a257-a2b3769fdb43"
      },
      "execution_count": null,
      "outputs": [
        {
          "output_type": "display_data",
          "data": {
            "text/plain": [
              "<Figure size 432x288 with 1 Axes>"
            ],
            "image/png": "[encoded data removed]"
          },
          "metadata": {
            "needs_background": "light"
          }
        }
      ]
    },
    {
      "cell_type": "code",
      "source": [
        "score=model_s.evaluate(test_df,steps=test_df.samples)\n",
        "print(\"test loss\",score[0])\n",
        "print(\"test Accuracy\",score[1])"
      ],
      "metadata": {
        "colab": {
          "base_uri": "https://localhost:8080/"
        },
        "id": "afEo7GelPCgu",
        "outputId": "4303443c-6e5e-44a9-f3ba-f66c020fa72d"
      },
      "execution_count": null,
      "outputs": [
        {
          "output_type": "stream",
          "name": "stdout",
          "text": [
            " 11/346 [..............................] - ETA: 56s - loss: 0.4897 - accuracy: 0.8757"
          ]
        },
        {
          "output_type": "stream",
          "name": "stderr",
          "text": [
            "WARNING:tensorflow:Your input ran out of data; interrupting training. Make sure that your dataset or generator can generate at least `steps_per_epoch * epochs` batches (in this case, 346 batches). You may need to use the repeat() function when building your dataset.\n"
          ]
        },
        {
          "output_type": "stream",
          "name": "stdout",
          "text": [
            "\b\b\b\b\b\b\b\b\b\b\b\b\b\b\b\b\b\b\b\b\b\b\b\b\b\b\b\b\b\b\b\b\b\b\b\b\b\b\b\b\b\b\b\b\b\b\b\b\b\b\b\b\b\b\b\b\b\b\b\b\b\b\b\b\b\b\b\b\b\b\b\b\b\b\b\b\b\b\b\b\b\b\b\b\b\r346/346 [==============================] - 2s 5ms/step - loss: 0.4897 - accuracy: 0.8757\n",
            "test loss 0.4897192418575287\n",
            "test Accuracy 0.8757225275039673\n"
          ]
        }
      ]
    },
    {
      "cell_type": "code",
      "source": [
        "import numpy as np\n",
        "y_pred=model_s.predict(test_df)\n",
        "predict_classes=np.argmax(y_pred,axis=1)"
      ],
      "metadata": {
        "id": "F2hZ-1j-ari9"
      },
      "execution_count": null,
      "outputs": []
    },
    {
      "cell_type": "code",
      "source": [
        "from sklearn.metrics import classification_report as cr\n",
        "from sklearn.metrics import confusion_matrix as cm\n",
        "matrix = cm(test_df.classes, predict_classes)\n"
      ],
      "metadata": {
        "id": "OxfzYeNmO9nD"
      },
      "execution_count": null,
      "outputs": []
    },
    {
      "cell_type": "code",
      "source": [
        "import seaborn as sns\n",
        "figure = plt.figure(figsize=(15, 15))\n",
        "sns.heatmap(matrix, annot=True,cmap=\"gray\")\n",
        "plt.ylabel('True label')\n",
        "plt.xlabel('Predicted label')\n",
        "plt.show()"
      ],
      "metadata": {
        "colab": {
          "base_uri": "https://localhost:8080/",
          "height": 881
        },
        "id": "0l1tYlr0O1Tv",
        "outputId": "d09a13d6-3f45-4ffb-a6e2-af00ba182655"
      },
      "execution_count": null,
      "outputs": [
        {
          "output_type": "display_data",
          "data": {
            "text/plain": [
              "<Figure size 1080x1080 with 2 Axes>"
            ],
            "image/png": "[encoded data removed]"
          },
          "metadata": {
            "needs_background": "light"
          }
        }
      ]
    },
    {
      "cell_type": "code",
      "source": [],
      "metadata": {
        "id": "5AfxlHJKOaCJ"
      },
      "execution_count": null,
      "outputs": []
    }
  ]
}